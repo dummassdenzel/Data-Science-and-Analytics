{
 "cells": [
  {
   "cell_type": "markdown",
   "metadata": {},
   "source": [
    "# Statistics using Numpy\n"
   ]
  },
  {
   "cell_type": "code",
   "execution_count": 3,
   "metadata": {},
   "outputs": [
    {
     "name": "stdout",
     "output_type": "stream",
     "text": [
      "Mean:  151.3\n",
      "Median:  157.0\n",
      "Mode:  ModeResult(mode=103, count=1)\n",
      "Range:  85\n",
      "Variance:  894.81\n",
      "Standard Deviation:  29.91\n",
      "Sample Variance:  1076.7\n",
      "Sample Standard Deviation:  32.81\n"
     ]
    }
   ],
   "source": [
    "import numpy as np\n",
    "import array as arr\n",
    "from scipy import stats\n",
    "\n",
    "data = [103, 151, 176, 188, 146, 184, 175, 112, 115, 163] \n",
    "\n",
    "mean = np.mean(data)\n",
    "median = np.median(data)\n",
    "mode = stats.mode(data)\n",
    "srange = np.ptp(data)\n",
    "variance = round(np.var(data),2)\n",
    "stdev = round(np.std(data),2)\n",
    "\n",
    "s_data = arr.array('i', data)\n",
    "dataset = s_data[0:5].tolist()\n",
    "\n",
    "s_variance = round(np.var(dataset, ddof=1),2)\n",
    "s_stdev = round(np.std(dataset,ddof=1),2)\n",
    "\n",
    "def display_stats():\n",
    "    print(\"Mean: \", mean)\n",
    "    print(\"Median: \", median)\n",
    "    print(\"Mode: \", mode)\n",
    "    print(\"Range: \", srange)\n",
    "    print(\"Variance: \", variance)\n",
    "    print(\"Standard Deviation: \", stdev)\n",
    "    print(\"Sample Variance: \", s_variance)\n",
    "    print(\"Sample Standard Deviation: \", s_stdev)\n",
    "\n",
    "\n",
    "\n",
    "display_stats()"
   ]
  },
  {
   "cell_type": "markdown",
   "metadata": {},
   "source": [
    "# Statistics using Pandas\n"
   ]
  },
  {
   "cell_type": "code",
   "execution_count": 4,
   "metadata": {},
   "outputs": [
    {
     "name": "stdout",
     "output_type": "stream",
     "text": [
      "count     10.000000\n",
      "mean     151.300000\n",
      "std       31.531466\n",
      "min      103.000000\n",
      "25%      122.750000\n",
      "50%      157.000000\n",
      "75%      175.750000\n",
      "max      188.000000\n",
      "dtype: float64\n"
     ]
    }
   ],
   "source": [
    "import pandas as pd\n",
    "\n",
    "series = pd.Series(data)\n",
    "data_summary = series.describe()\n",
    "\n",
    "print(data_summary)"
   ]
  },
  {
   "cell_type": "markdown",
   "metadata": {},
   "source": [
    "### Remember!\n",
    "\n",
    "Pandas' default standard deviation computation is for sample data\n"
   ]
  },
  {
   "cell_type": "code",
   "execution_count": 5,
   "metadata": {},
   "outputs": [
    {
     "name": "stdout",
     "output_type": "stream",
     "text": [
      "29.913374934968473\n",
      "33.44416989551393\n"
     ]
    }
   ],
   "source": [
    "p_stdev = series.std(ddof=0) # For population\n",
    "s_stdev = series.std(ddof=2) # For sample\n",
    "\n",
    "print(p_stdev)\n",
    "print(s_stdev)"
   ]
  }
 ],
 "metadata": {
  "kernelspec": {
   "display_name": "Python 3",
   "language": "python",
   "name": "python3"
  },
  "language_info": {
   "codemirror_mode": {
    "name": "ipython",
    "version": 3
   },
   "file_extension": ".py",
   "mimetype": "text/x-python",
   "name": "python",
   "nbconvert_exporter": "python",
   "pygments_lexer": "ipython3",
   "version": "3.12.0"
  }
 },
 "nbformat": 4,
 "nbformat_minor": 2
}
